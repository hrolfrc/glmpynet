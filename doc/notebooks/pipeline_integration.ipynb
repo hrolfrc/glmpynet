{
 "cells": [
  {
   "cell_type": "markdown",
   "metadata": {},
   "source": [
    "# Using LogisticNet in a Pipeline\n",
    "\n",
    "This notebook shows how to use `LogisticNet` in a scikit-learn `Pipeline` with preprocessing, such as `StandardScaler`, to handle binary classification.\n",
    "\n",
    "## Setup\n",
    "We use a synthetic dataset for reproducibility."
   ],
   "id": "96c30bf8e864508c"
  },
  {
   "cell_type": "code",
   "metadata": {
    "ExecuteTime": {
     "end_time": "2025-07-07T14:49:16.674813Z",
     "start_time": "2025-07-07T14:49:15.833048Z"
    }
   },
   "source": [
    "from sklearn.datasets import make_classification\n",
    "from sklearn.model_selection import train_test_split\n",
    "from sklearn.pipeline import Pipeline\n",
    "from sklearn.preprocessing import StandardScaler\n",
    "from sklearn.metrics import accuracy_score\n",
    "from glmpynet import LogisticNet\n",
    "\n",
    "# Generate synthetic dataset\n",
    "X, y = make_classification(n_samples=200, n_features=20, n_classes=2, random_state=42)\n",
    "X_train, X_test, y_train, y_test = train_test_split(X, y, test_size=0.2, random_state=42)\n",
    "\n",
    "# Create and fit pipeline\n",
    "pipeline = Pipeline([\n",
    "    ('scaler', StandardScaler()),\n",
    "    ('logistic_net', LogisticNet())\n",
    "])\n",
    "pipeline.fit(X_train, y_train)\n",
    "\n",
    "# Predict and evaluate\n",
    "y_pred = pipeline.predict(X_test)\n",
    "accuracy = accuracy_score(y_test, y_pred)\n",
    "print(f\"Pipeline Accuracy: {accuracy:.2f}\")"
   ],
   "id": "f0fdfde308e9543c",
   "outputs": [
    {
     "name": "stdout",
     "output_type": "stream",
     "text": [
      "Pipeline Accuracy: 0.88\n"
     ]
    },
    {
     "name": "stderr",
     "output_type": "stream",
     "text": [
      "/home/rolf/PycharmProjects/glmpynet/.venv/lib/python3.11/site-packages/sklearn/linear_model/_logistic.py:1273: FutureWarning: 'multi_class' was deprecated in version 1.5 and will be removed in 1.7. Use OneVsRestClassifier(LogisticRegression(..)) instead. Leave it to its default value to avoid this warning.\n",
      "  warnings.warn(\n"
     ]
    }
   ],
   "execution_count": 1
  },
  {
   "cell_type": "markdown",
   "metadata": {},
   "source": [
    "## Explanation\n",
    "- The pipeline combines `StandardScaler` for feature scaling and `LogisticNet` for classification.\n",
    "- The dataset is the same as in the basic example, ensuring consistency.\n",
    "- Accuracy is similar to the basic example but may improve slightly due to scaling.\n",
    "- With `glmnet`, expect comparable integration but potentially better performance on high-dimensional data."
   ],
   "id": "bdb15db28ba9e1a8"
  }
 ],
 "metadata": {
  "kernelspec": {
   "display_name": "Python 3",
   "language": "python",
   "name": "python3"
  },
  "language_info": {
   "codemirror_mode": {
    "name": "ipython",
    "version": 3
   },
   "file_extension": ".py",
   "mimetype": "text/x-python",
   "name": "python",
   "nbconvert_exporter": "python",
   "pygments_lexer": "ipython3",
   "version": "3.11.0"
  }
 },
 "nbformat": 4,
 "nbformat_minor": 2
}
