{
 "cells": [
  {
   "cell_type": "markdown",
   "metadata": {},
   "source": [
    "# Handling Sparse Data with LogisticNet\n",
    "\n",
    "This notebook shows how `LogisticNet` handles sparse input data, such as text features or high-dimensional datasets.\n",
    "\n",
    "## Setup\n",
    "We generate a sparse synthetic dataset for testing."
   ],
   "id": "2e0a6cef331ac599"
  },
  {
   "cell_type": "code",
   "metadata": {
    "ExecuteTime": {
     "end_time": "2025-07-07T14:49:25.923134Z",
     "start_time": "2025-07-07T14:49:24.784853Z"
    }
   },
   "source": [
    "from sklearn.datasets import make_classification\n",
    "from sklearn.model_selection import train_test_split\n",
    "from sklearn.metrics import accuracy_score\n",
    "from scipy.sparse import csr_matrix\n",
    "from glmpynet import LogisticNet\n",
    "\n",
    "# Generate synthetic dataset and convert to sparse\n",
    "X, y = make_classification(n_samples=200, n_features=100, n_classes=2, random_state=42)\n",
    "X_sparse = csr_matrix(X)\n",
    "X_train, X_test, y_train, y_test = train_test_split(X_sparse, y, test_size=0.2, random_state=42)\n",
    "\n",
    "# Fit and predict with sparse data\n",
    "model = LogisticNet(penalty='l1')\n",
    "model.fit(X_train, y_train)\n",
    "y_pred = model.predict(X_test)\n",
    "accuracy = accuracy_score(y_test, y_pred)\n",
    "print(f\"Sparse Data Accuracy: {accuracy:.2f}\")\n",
    "\n",
    "# Check sparsity of coefficients\n",
    "print(f\"Number of non-zero coefficients: {np.sum(model.coef_ != 0)}\")"
   ],
   "id": "7fe44fe6e27f632b",
   "outputs": [
    {
     "name": "stderr",
     "output_type": "stream",
     "text": [
      "/home/rolf/PycharmProjects/glmpynet/.venv/lib/python3.11/site-packages/sklearn/linear_model/_logistic.py:1273: FutureWarning: 'multi_class' was deprecated in version 1.5 and will be removed in 1.7. Use OneVsRestClassifier(LogisticRegression(..)) instead. Leave it to its default value to avoid this warning.\n",
      "  warnings.warn(\n"
     ]
    },
    {
     "name": "stdout",
     "output_type": "stream",
     "text": [
      "Sparse Data Accuracy: 0.85\n"
     ]
    },
    {
     "ename": "NameError",
     "evalue": "name 'np' is not defined",
     "output_type": "error",
     "traceback": [
      "\u001B[31m---------------------------------------------------------------------------\u001B[39m",
      "\u001B[31mNameError\u001B[39m                                 Traceback (most recent call last)",
      "\u001B[36mCell\u001B[39m\u001B[36m \u001B[39m\u001B[32mIn[1]\u001B[39m\u001B[32m, line 20\u001B[39m\n\u001B[32m     17\u001B[39m \u001B[38;5;28mprint\u001B[39m(\u001B[33mf\u001B[39m\u001B[33m\"\u001B[39m\u001B[33mSparse Data Accuracy: \u001B[39m\u001B[38;5;132;01m{\u001B[39;00maccuracy\u001B[38;5;132;01m:\u001B[39;00m\u001B[33m.2f\u001B[39m\u001B[38;5;132;01m}\u001B[39;00m\u001B[33m\"\u001B[39m)\n\u001B[32m     19\u001B[39m \u001B[38;5;66;03m# Check sparsity of coefficients\u001B[39;00m\n\u001B[32m---> \u001B[39m\u001B[32m20\u001B[39m \u001B[38;5;28mprint\u001B[39m(\u001B[33mf\u001B[39m\u001B[33m\"\u001B[39m\u001B[33mNumber of non-zero coefficients: \u001B[39m\u001B[38;5;132;01m{\u001B[39;00m\u001B[43mnp\u001B[49m.sum(model.coef_\u001B[38;5;250m \u001B[39m!=\u001B[38;5;250m \u001B[39m\u001B[32m0\u001B[39m)\u001B[38;5;132;01m}\u001B[39;00m\u001B[33m\"\u001B[39m)\n",
      "\u001B[31mNameError\u001B[39m: name 'np' is not defined"
     ]
    }
   ],
   "execution_count": 1
  },
  {
   "cell_type": "markdown",
   "metadata": {},
   "source": [
    "## Explanation\n",
    "- The dataset is converted to a sparse CSR matrix to simulate high-dimensional data.\n",
    "- `LogisticNet` with `penalty='l1'` promotes sparsity in coefficients.\n",
    "- Accuracy is similar to dense data, but coefficient sparsity is key for `glmnet` comparison.\n",
    "- With `glmnet`, expect enhanced sparsity and potentially better performance on sparse data."
   ],
   "id": "98ff31b3d1b5dedd"
  }
 ],
 "metadata": {
  "kernelspec": {
   "display_name": "Python 3",
   "language": "python",
   "name": "python3"
  },
  "language_info": {
   "codemirror_mode": {
    "name": "ipython",
    "version": 3
   },
   "file_extension": ".py",
   "mimetype": "text/x-python",
   "name": "python",
   "nbconvert_exporter": "python",
   "pygments_lexer": "ipython3",
   "version": "3.11.0"
  }
 },
 "nbformat": 4,
 "nbformat_minor": 2
}
